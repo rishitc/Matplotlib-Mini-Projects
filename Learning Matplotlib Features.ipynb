{
 "cells": [
  {
   "cell_type": "markdown",
   "metadata": {},
   "source": [
    "# Loading up all the necessary libraries for the project"
   ]
  },
  {
   "cell_type": "code",
   "execution_count": 1,
   "metadata": {},
   "outputs": [],
   "source": [
    "import matplotlib.pyplot as plt\n",
    "import numpy as np\n",
    "import pandas as pd\n",
    "import random\n",
    "\n",
    "random.seed()"
   ]
  },
  {
   "cell_type": "markdown",
   "metadata": {},
   "source": [
    "### Basic Graph"
   ]
  },
  {
   "cell_type": "code",
   "execution_count": 2,
   "metadata": {},
   "outputs": [
    {
     "name": "stdout",
     "output_type": "stream",
     "text": [
      "Help on function plot in module matplotlib.pyplot:\n",
      "\n",
      "plot(*args, scalex=True, scaley=True, data=None, **kwargs)\n",
      "    Plot y versus x as lines and/or markers.\n",
      "    \n",
      "    Call signatures::\n",
      "    \n",
      "        plot([x], y, [fmt], *, data=None, **kwargs)\n",
      "        plot([x], y, [fmt], [x2], y2, [fmt2], ..., **kwargs)\n",
      "    \n",
      "    The coordinates of the points or line nodes are given by *x*, *y*.\n",
      "    \n",
      "    The optional parameter *fmt* is a convenient way for defining basic\n",
      "    formatting like color, marker and linestyle. It's a shortcut string\n",
      "    notation described in the *Notes* section below.\n",
      "    \n",
      "    >>> plot(x, y)        # plot x and y using default line style and color\n",
      "    >>> plot(x, y, 'bo')  # plot x and y using blue circle markers\n",
      "    >>> plot(y)           # plot y using x as index array 0..N-1\n",
      "    >>> plot(y, 'r+')     # ditto, but with red plusses\n",
      "    \n",
      "    You can use `.Line2D` properties as keyword arguments for more\n",
      "    control on the appearance. Line properties and *fmt* can be mixed.\n",
      "    The following two calls yield identical results:\n",
      "    \n",
      "    >>> plot(x, y, 'go--', linewidth=2, markersize=12)\n",
      "    >>> plot(x, y, color='green', marker='o', linestyle='dashed',\n",
      "    ...      linewidth=2, markersize=12)\n",
      "    \n",
      "    When conflicting with *fmt*, keyword arguments take precedence.\n",
      "    \n",
      "    \n",
      "    **Plotting labelled data**\n",
      "    \n",
      "    There's a convenient way for plotting objects with labelled data (i.e.\n",
      "    data that can be accessed by index ``obj['y']``). Instead of giving\n",
      "    the data in *x* and *y*, you can provide the object in the *data*\n",
      "    parameter and just give the labels for *x* and *y*::\n",
      "    \n",
      "    >>> plot('xlabel', 'ylabel', data=obj)\n",
      "    \n",
      "    All indexable objects are supported. This could e.g. be a `dict`, a\n",
      "    `pandas.DataFame` or a structured numpy array.\n",
      "    \n",
      "    \n",
      "    **Plotting multiple sets of data**\n",
      "    \n",
      "    There are various ways to plot multiple sets of data.\n",
      "    \n",
      "    - The most straight forward way is just to call `plot` multiple times.\n",
      "      Example:\n",
      "    \n",
      "      >>> plot(x1, y1, 'bo')\n",
      "      >>> plot(x2, y2, 'go')\n",
      "    \n",
      "    - Alternatively, if your data is already a 2d array, you can pass it\n",
      "      directly to *x*, *y*. A separate data set will be drawn for every\n",
      "      column.\n",
      "    \n",
      "      Example: an array ``a`` where the first column represents the *x*\n",
      "      values and the other columns are the *y* columns::\n",
      "    \n",
      "      >>> plot(a[0], a[1:])\n",
      "    \n",
      "    - The third way is to specify multiple sets of *[x]*, *y*, *[fmt]*\n",
      "      groups::\n",
      "    \n",
      "      >>> plot(x1, y1, 'g^', x2, y2, 'g-')\n",
      "    \n",
      "      In this case, any additional keyword argument applies to all\n",
      "      datasets. Also this syntax cannot be combined with the *data*\n",
      "      parameter.\n",
      "    \n",
      "    By default, each line is assigned a different style specified by a\n",
      "    'style cycle'. The *fmt* and line property parameters are only\n",
      "    necessary if you want explicit deviations from these defaults.\n",
      "    Alternatively, you can also change the style cycle using\n",
      "    :rc:`axes.prop_cycle`.\n",
      "    \n",
      "    \n",
      "    Parameters\n",
      "    ----------\n",
      "    x, y : array-like or scalar\n",
      "        The horizontal / vertical coordinates of the data points.\n",
      "        *x* values are optional and default to `range(len(y))`.\n",
      "    \n",
      "        Commonly, these parameters are 1D arrays.\n",
      "    \n",
      "        They can also be scalars, or two-dimensional (in that case, the\n",
      "        columns represent separate data sets).\n",
      "    \n",
      "        These arguments cannot be passed as keywords.\n",
      "    \n",
      "    fmt : str, optional\n",
      "        A format string, e.g. 'ro' for red circles. See the *Notes*\n",
      "        section for a full description of the format strings.\n",
      "    \n",
      "        Format strings are just an abbreviation for quickly setting\n",
      "        basic line properties. All of these and more can also be\n",
      "        controlled by keyword arguments.\n",
      "    \n",
      "        This argument cannot be passed as keyword.\n",
      "    \n",
      "    data : indexable object, optional\n",
      "        An object with labelled data. If given, provide the label names to\n",
      "        plot in *x* and *y*.\n",
      "    \n",
      "        .. note::\n",
      "            Technically there's a slight ambiguity in calls where the\n",
      "            second label is a valid *fmt*. `plot('n', 'o', data=obj)`\n",
      "            could be `plt(x, y)` or `plt(y, fmt)`. In such cases,\n",
      "            the former interpretation is chosen, but a warning is issued.\n",
      "            You may suppress the warning by adding an empty format string\n",
      "            `plot('n', 'o', '', data=obj)`.\n",
      "    \n",
      "    Other Parameters\n",
      "    ----------------\n",
      "    scalex, scaley : bool, optional, default: True\n",
      "        These parameters determined if the view limits are adapted to\n",
      "        the data limits. The values are passed on to `autoscale_view`.\n",
      "    \n",
      "    **kwargs : `.Line2D` properties, optional\n",
      "        *kwargs* are used to specify properties like a line label (for\n",
      "        auto legends), linewidth, antialiasing, marker face color.\n",
      "        Example::\n",
      "    \n",
      "        >>> plot([1, 2, 3], [1, 2, 3], 'go-', label='line 1', linewidth=2)\n",
      "        >>> plot([1, 2, 3], [1, 4, 9], 'rs', label='line 2')\n",
      "    \n",
      "        If you make multiple lines with one plot command, the kwargs\n",
      "        apply to all those lines.\n",
      "    \n",
      "        Here is a list of available `.Line2D` properties:\n",
      "    \n",
      "        Properties:\n",
      "        agg_filter: a filter function, which takes a (m, n, 3) float array and a dpi value, and returns a (m, n, 3) array\n",
      "        alpha: float or None\n",
      "        animated: bool\n",
      "        antialiased or aa: bool\n",
      "        clip_box: `.Bbox`\n",
      "        clip_on: bool\n",
      "        clip_path: Patch or (Path, Transform) or None\n",
      "        color or c: color\n",
      "        contains: callable\n",
      "        dash_capstyle: {'butt', 'round', 'projecting'}\n",
      "        dash_joinstyle: {'miter', 'round', 'bevel'}\n",
      "        dashes: sequence of floats (on/off ink in points) or (None, None)\n",
      "        data: (2, N) array or two 1D arrays\n",
      "        drawstyle or ds: {'default', 'steps', 'steps-pre', 'steps-mid', 'steps-post'}, default: 'default'\n",
      "        figure: `.Figure`\n",
      "        fillstyle: {'full', 'left', 'right', 'bottom', 'top', 'none'}\n",
      "        gid: str\n",
      "        in_layout: bool\n",
      "        label: object\n",
      "        linestyle or ls: {'-', '--', '-.', ':', '', (offset, on-off-seq), ...}\n",
      "        linewidth or lw: float\n",
      "        marker: marker style\n",
      "        markeredgecolor or mec: color\n",
      "        markeredgewidth or mew: float\n",
      "        markerfacecolor or mfc: color\n",
      "        markerfacecoloralt or mfcalt: color\n",
      "        markersize or ms: float\n",
      "        markevery: None or int or (int, int) or slice or List[int] or float or (float, float)\n",
      "        path_effects: `.AbstractPathEffect`\n",
      "        picker: float or callable[[Artist, Event], Tuple[bool, dict]]\n",
      "        pickradius: float\n",
      "        rasterized: bool or None\n",
      "        sketch_params: (scale: float, length: float, randomness: float)\n",
      "        snap: bool or None\n",
      "        solid_capstyle: {'butt', 'round', 'projecting'}\n",
      "        solid_joinstyle: {'miter', 'round', 'bevel'}\n",
      "        transform: `matplotlib.transforms.Transform`\n",
      "        url: str\n",
      "        visible: bool\n",
      "        xdata: 1D array\n",
      "        ydata: 1D array\n",
      "        zorder: float\n",
      "    \n",
      "    Returns\n",
      "    -------\n",
      "    lines\n",
      "        A list of `.Line2D` objects representing the plotted data.\n",
      "    \n",
      "    See Also\n",
      "    --------\n",
      "    scatter : XY scatter plot with markers of varying size and/or color (\n",
      "        sometimes also called bubble chart).\n",
      "    \n",
      "    Notes\n",
      "    -----\n",
      "    **Format Strings**\n",
      "    \n",
      "    A format string consists of a part for color, marker and line::\n",
      "    \n",
      "        fmt = '[marker][line][color]'\n",
      "    \n",
      "    Each of them is optional. If not provided, the value from the style\n",
      "    cycle is used. Exception: If ``line`` is given, but no ``marker``,\n",
      "    the data will be a line without markers.\n",
      "    \n",
      "    Other combinations such as ``[color][marker][line]`` are also\n",
      "    supported, but note that their parsing may be ambiguous.\n",
      "    \n",
      "    **Markers**\n",
      "    \n",
      "    =============    ===============================\n",
      "    character        description\n",
      "    =============    ===============================\n",
      "    ``'.'``          point marker\n",
      "    ``','``          pixel marker\n",
      "    ``'o'``          circle marker\n",
      "    ``'v'``          triangle_down marker\n",
      "    ``'^'``          triangle_up marker\n",
      "    ``'<'``          triangle_left marker\n",
      "    ``'>'``          triangle_right marker\n",
      "    ``'1'``          tri_down marker\n",
      "    ``'2'``          tri_up marker\n",
      "    ``'3'``          tri_left marker\n",
      "    ``'4'``          tri_right marker\n",
      "    ``'s'``          square marker\n",
      "    ``'p'``          pentagon marker\n",
      "    ``'*'``          star marker\n",
      "    ``'h'``          hexagon1 marker\n",
      "    ``'H'``          hexagon2 marker\n",
      "    ``'+'``          plus marker\n",
      "    ``'x'``          x marker\n",
      "    ``'D'``          diamond marker\n",
      "    ``'d'``          thin_diamond marker\n",
      "    ``'|'``          vline marker\n",
      "    ``'_'``          hline marker\n",
      "    =============    ===============================\n",
      "    \n",
      "    **Line Styles**\n",
      "    \n",
      "    =============    ===============================\n",
      "    character        description\n",
      "    =============    ===============================\n",
      "    ``'-'``          solid line style\n",
      "    ``'--'``         dashed line style\n",
      "    ``'-.'``         dash-dot line style\n",
      "    ``':'``          dotted line style\n",
      "    =============    ===============================\n",
      "    \n",
      "    Example format strings::\n",
      "    \n",
      "        'b'    # blue markers with default shape\n",
      "        'or'   # red circles\n",
      "        '-g'   # green solid line\n",
      "        '--'   # dashed line with default color\n",
      "        '^k:'  # black triangle_up markers connected by a dotted line\n",
      "    \n",
      "    **Colors**\n",
      "    \n",
      "    The supported color abbreviations are the single letter codes\n",
      "    \n",
      "    =============    ===============================\n",
      "    character        color\n",
      "    =============    ===============================\n",
      "    ``'b'``          blue\n",
      "    ``'g'``          green\n",
      "    ``'r'``          red\n",
      "    ``'c'``          cyan\n",
      "    ``'m'``          magenta\n",
      "    ``'y'``          yellow\n",
      "    ``'k'``          black\n",
      "    ``'w'``          white\n",
      "    =============    ===============================\n",
      "    \n",
      "    and the ``'CN'`` colors that index into the default property cycle.\n",
      "    \n",
      "    If the color is the only part of the format string, you can\n",
      "    additionally use any  `matplotlib.colors` spec, e.g. full names\n",
      "    (``'green'``) or hex strings (``'#008000'``).\n",
      "\n"
     ]
    }
   ],
   "source": [
    "help(plt.plot)"
   ]
  },
  {
   "cell_type": "markdown",
   "metadata": {},
   "source": [
    "#### Without `plt.show()`"
   ]
  },
  {
   "cell_type": "code",
   "execution_count": 3,
   "metadata": {},
   "outputs": [
    {
     "data": {
      "text/plain": [
       "[<matplotlib.lines.Line2D at 0x7f688ab42d90>]"
      ]
     },
     "execution_count": 3,
     "metadata": {},
     "output_type": "execute_result"
    },
    {
     "data": {
      "image/png": "[encoded data removed]",
      "text/plain": [
       "<Figure size 432x288 with 1 Axes>"
      ]
     },
     "metadata": {
      "needs_background": "light"
     },
     "output_type": "display_data"
    }
   ],
   "source": [
    "x = [i for i in range(1, 10)]\n",
    "y = [i**2 for i in range(1, 10)]\n",
    "\n",
    "plt.plot(x, y)"
   ]
  },
  {
   "cell_type": "markdown",
   "metadata": {},
   "source": [
    "#### With `plt.show()`"
   ]
  },
  {
   "cell_type": "code",
   "execution_count": 4,
   "metadata": {},
   "outputs": [
    {
     "data": {
      "image/png": "[encoded data removed]",
      "text/plain": [
       "<Figure size 432x288 with 1 Axes>"
      ]
     },
     "metadata": {
      "needs_background": "light"
     },
     "output_type": "display_data"
    }
   ],
   "source": [
    "x = [i for i in range(1, 10)]\n",
    "y = [i**2 for i in range(1, 10)]\n",
    "\n",
    "plt.plot(x, y)\n",
    "\n",
    "plt.show()  # This is actually the right way to show the graph"
   ]
  },
  {
   "cell_type": "markdown",
   "metadata": {},
   "source": [
    "### Adding a Title to the Graph"
   ]
  },
  {
   "cell_type": "code",
   "execution_count": 5,
   "metadata": {},
   "outputs": [
    {
     "name": "stdout",
     "output_type": "stream",
     "text": [
      "Help on function title in module matplotlib.pyplot:\n",
      "\n",
      "title(label, fontdict=None, loc=None, pad=None, **kwargs)\n",
      "    Set a title for the axes.\n",
      "    \n",
      "    Set one of the three available axes titles. The available titles\n",
      "    are positioned above the axes in the center, flush with the left\n",
      "    edge, and flush with the right edge.\n",
      "    \n",
      "    Parameters\n",
      "    ----------\n",
      "    label : str\n",
      "        Text to use for the title\n",
      "    \n",
      "    fontdict : dict\n",
      "        A dictionary controlling the appearance of the title text,\n",
      "        the default *fontdict* is::\n",
      "    \n",
      "           {'fontsize': rcParams['axes.titlesize'],\n",
      "            'fontweight' : rcParams['axes.titleweight'],\n",
      "            'color' : rcParams['axes.titlecolor'],\n",
      "            'verticalalignment': 'baseline',\n",
      "            'horizontalalignment': loc}\n",
      "    \n",
      "    loc : {'center', 'left', 'right'}, str, optional\n",
      "        Which title to set.\n",
      "        If *None*, defaults to :rc:`axes.titlelocation`.\n",
      "    \n",
      "    pad : float\n",
      "        The offset of the title from the top of the axes, in points.\n",
      "        If *None*, defaults to :rc:`axes.titlepad`.\n",
      "    \n",
      "    Returns\n",
      "    -------\n",
      "    text : :class:`~matplotlib.text.Text`\n",
      "        The matplotlib text instance representing the title\n",
      "    \n",
      "    Other Parameters\n",
      "    ----------------\n",
      "    **kwargs : `~matplotlib.text.Text` properties\n",
      "        Other keyword arguments are text properties, see\n",
      "        :class:`~matplotlib.text.Text` for a list of valid text\n",
      "        properties.\n",
      "\n"
     ]
    }
   ],
   "source": [
    "help(plt.title)"
   ]
  },
  {
   "cell_type": "code",
   "execution_count": 6,
   "metadata": {
    "scrolled": true
   },
   "outputs": [
    {
     "data": {
      "image/png": "[encoded data removed]",
      "text/plain": [
       "<Figure size 432x288 with 1 Axes>"
      ]
     },
     "metadata": {
      "needs_background": "light"
     },
     "output_type": "display_data"
    }
   ],
   "source": [
    "x = [i for i in range(1, 10)]\n",
    "y = [i**2 for i in range(1, 10)]\n",
    "\n",
    "plt.plot(x, y)\n",
    "\n",
    "plt.title(\"My first graph\")\n",
    "\n",
    "plt.show()  # This is actually the right way to show the graph"
   ]
  },
  {
   "cell_type": "markdown",
   "metadata": {},
   "source": [
    "### Trying the `loc` kwarg for `title`"
   ]
  },
  {
   "cell_type": "code",
   "execution_count": 7,
   "metadata": {},
   "outputs": [
    {
     "data": {
      "image/png": "[encoded data removed]",
      "text/plain": [
       "<Figure size 432x288 with 1 Axes>"
      ]
     },
     "metadata": {
      "needs_background": "light"
     },
     "output_type": "display_data"
    }
   ],
   "source": [
    "x = [i for i in range(1, 10)]\n",
    "y = [i**2 for i in range(1, 10)]\n",
    "\n",
    "plt.plot(x, y)\n",
    "\n",
    "plt.title(\"Centre Text\", loc=\"center\")\n",
    "plt.title(\"Left Text\", loc=\"left\")\n",
    "plt.title(\"Right Text\", loc=\"right\")\n",
    "\n",
    "\n",
    "plt.show()  # This is actually the right way to show the graph"
   ]
  },
  {
   "cell_type": "markdown",
   "metadata": {},
   "source": [
    "### Adding the Label for the X and Y Axis"
   ]
  },
  {
   "cell_type": "code",
   "execution_count": 8,
   "metadata": {},
   "outputs": [
    {
     "data": {
      "image/png": "[encoded data removed]",
      "text/plain": [
       "<Figure size 432x288 with 1 Axes>"
      ]
     },
     "metadata": {
      "needs_background": "light"
     },
     "output_type": "display_data"
    }
   ],
   "source": [
    "x = [i for i in range(1, 10)]\n",
    "y = [i**2 for i in range(1, 10)]\n",
    "\n",
    "plt.plot(x, y)\n",
    "\n",
    "plt.title(\"The Graph\")\n",
    "plt.xlabel(\"X Axis\")\n",
    "plt.ylabel(\"Y Axis\")\n",
    "\n",
    "plt.show()  # This is actually the right way to show the graph"
   ]
  },
  {
   "cell_type": "markdown",
   "metadata": {},
   "source": [
    "### Playing with Fonts and Font sizes"
   ]
  },
  {
   "cell_type": "code",
   "execution_count": 9,
   "metadata": {
    "scrolled": true
   },
   "outputs": [
    {
     "data": {
      "image/png": "[encoded data removed]",
      "text/plain": [
       "<Figure size 432x288 with 1 Axes>"
      ]
     },
     "metadata": {
      "needs_background": "light"
     },
     "output_type": "display_data"
    }
   ],
   "source": [
    "x = [i for i in range(1, 10)]\n",
    "y = [i**2 for i in range(1, 10)]\n",
    "\n",
    "plt.plot(x, y)\n",
    "\n",
    "FONT_DICT_TITLE = {\n",
    "                    \"fontname\": \"Z003\",\n",
    "                    \"fontsize\": 20,  # Size in points\n",
    "                    \"fontweight\": 100,  # A value from 1-1000\n",
    "                  }\n",
    "\n",
    "FONT_DICT_X_AXIS = {\n",
    "                    \"fontname\": \"Khmer OS\",\n",
    "                    \"fontsize\": 20,  # Size in points\n",
    "                    \"fontweight\": 100,  # A value from 1-1000\n",
    "                   }\n",
    "FONT_DICT_Y_AXIS = {\n",
    "                    \"fontname\": \"URW Gothic\",\n",
    "                    \"fontsize\": 20,  # Size in points\n",
    "                    \"fontweight\": 100,  # A value from 1-1000\n",
    "                   }\n",
    "\n",
    "\n",
    "plt.title(\"The Graph\", fontdict=FONT_DICT_TITLE)\n",
    "plt.xlabel(\"X Axis\", fontdict=FONT_DICT_X_AXIS)\n",
    "plt.ylabel(\"Y Axis\", fontdict=FONT_DICT_Y_AXIS)\n",
    "\n",
    "# The ticks automatically resize the graph\n",
    "plt.xticks([i for i in range(20)])  # The values need not be evenly spaced\n",
    "plt.yticks([i for i in range(0, 100, 10)])  # The values need not be evenly spaced\n",
    "\n",
    "plt.show()  # This is actually the right way to show the graph"
   ]
  },
  {
   "cell_type": "markdown",
   "metadata": {},
   "source": [
    "## Notes:\n",
    "So I did struggle initially to make the fonts work on my installation on **Ubuntu 20.04** as some fonts were not available such as `Comic Sans MS` which was a font I saw being used in many online tutorials (just for examples obviously). \n",
    "\n",
    "After some digging around I found that you must check what fonts are available on your system before trying any font to avoid errors. I found a [website](http://jonathansoma.com/lede/data-studio/matplotlib/list-all-fonts-available-in-matplotlib-plus-samples/) that provided the below code cell for figuring this out. \n",
    "It essentially prints out the name of the font as well as how it looks.\n",
    "\n",
    "This is definitly a code cell worth keeping in the notebook and for reference in the future."
   ]
  },
  {
   "cell_type": "code",
   "execution_count": 10,
   "metadata": {
    "scrolled": true
   },
   "outputs": [
    {
     "data": {
      "text/html": [
       "<div style='column-count: 2;'><p>Abyssinica SIL: <span style='font-family:Abyssinica SIL; font-size: 24px;'>Abyssinica SIL</p>\n",
       "<p>Ani: <span style='font-family:Ani; font-size: 24px;'>Ani</p>\n",
       "<p>AnjaliOldLipi: <span style='font-family:AnjaliOldLipi; font-size: 24px;'>AnjaliOldLipi</p>\n",
       "<p>Bitstream Vera Sans: <span style='font-family:Bitstream Vera Sans; font-size: 24px;'>Bitstream Vera Sans</p>\n",
       "<p>Bitstream Vera Sans Mono: <span style='font-family:Bitstream Vera Sans Mono; font-size: 24px;'>Bitstream Vera Sans Mono</p>\n",
       "<p>Bitstream Vera Serif: <span style='font-family:Bitstream Vera Serif; font-size: 24px;'>Bitstream Vera Serif</p>\n",
       "<p>C059: <span style='font-family:C059; font-size: 24px;'>C059</p>\n",
       "<p>Chandas: <span style='font-family:Chandas; font-size: 24px;'>Chandas</p>\n",
       "<p>Chilanka: <span style='font-family:Chilanka; font-size: 24px;'>Chilanka</p>\n",
       "<p>D050000L: <span style='font-family:D050000L; font-size: 24px;'>D050000L</p>\n",
       "<p>DejaVu Math TeX Gyre: <span style='font-family:DejaVu Math TeX Gyre; font-size: 24px;'>DejaVu Math TeX Gyre</p>\n",
       "<p>DejaVu Sans: <span style='font-family:DejaVu Sans; font-size: 24px;'>DejaVu Sans</p>\n",
       "<p>DejaVu Sans Display: <span style='font-family:DejaVu Sans Display; font-size: 24px;'>DejaVu Sans Display</p>\n",
       "<p>DejaVu Sans Mono: <span style='font-family:DejaVu Sans Mono; font-size: 24px;'>DejaVu Sans Mono</p>\n",
       "<p>DejaVu Serif: <span style='font-family:DejaVu Serif; font-size: 24px;'>DejaVu Serif</p>\n",
       "<p>DejaVu Serif Display: <span style='font-family:DejaVu Serif Display; font-size: 24px;'>DejaVu Serif Display</p>\n",
       "<p>Droid Sans Fallback: <span style='font-family:Droid Sans Fallback; font-size: 24px;'>Droid Sans Fallback</p>\n",
       "<p>Dyuthi: <span style='font-family:Dyuthi; font-size: 24px;'>Dyuthi</p>\n",
       "<p>FreeMono: <span style='font-family:FreeMono; font-size: 24px;'>FreeMono</p>\n",
       "<p>FreeSans: <span style='font-family:FreeSans; font-size: 24px;'>FreeSans</p>\n",
       "<p>FreeSerif: <span style='font-family:FreeSerif; font-size: 24px;'>FreeSerif</p>\n",
       "<p>Gargi: <span style='font-family:Gargi; font-size: 24px;'>Gargi</p>\n",
       "<p>Garuda: <span style='font-family:Garuda; font-size: 24px;'>Garuda</p>\n",
       "<p>Gayathri: <span style='font-family:Gayathri; font-size: 24px;'>Gayathri</p>\n",
       "<p>Gubbi: <span style='font-family:Gubbi; font-size: 24px;'>Gubbi</p>\n",
       "<p>Jamrul: <span style='font-family:Jamrul; font-size: 24px;'>Jamrul</p>\n",
       "<p>KacstArt: <span style='font-family:KacstArt; font-size: 24px;'>KacstArt</p>\n",
       "<p>KacstBook: <span style='font-family:KacstBook; font-size: 24px;'>KacstBook</p>\n",
       "<p>KacstDecorative: <span style='font-family:KacstDecorative; font-size: 24px;'>KacstDecorative</p>\n",
       "<p>KacstDigital: <span style='font-family:KacstDigital; font-size: 24px;'>KacstDigital</p>\n",
       "<p>KacstFarsi: <span style='font-family:KacstFarsi; font-size: 24px;'>KacstFarsi</p>\n",
       "<p>KacstLetter: <span style='font-family:KacstLetter; font-size: 24px;'>KacstLetter</p>\n",
       "<p>KacstNaskh: <span style='font-family:KacstNaskh; font-size: 24px;'>KacstNaskh</p>\n",
       "<p>KacstOffice: <span style='font-family:KacstOffice; font-size: 24px;'>KacstOffice</p>\n",
       "<p>KacstOne: <span style='font-family:KacstOne; font-size: 24px;'>KacstOne</p>\n",
       "<p>KacstPen: <span style='font-family:KacstPen; font-size: 24px;'>KacstPen</p>\n",
       "<p>KacstPoster: <span style='font-family:KacstPoster; font-size: 24px;'>KacstPoster</p>\n",
       "<p>KacstQurn: <span style='font-family:KacstQurn; font-size: 24px;'>KacstQurn</p>\n",
       "<p>KacstScreen: <span style='font-family:KacstScreen; font-size: 24px;'>KacstScreen</p>\n",
       "<p>KacstTitle: <span style='font-family:KacstTitle; font-size: 24px;'>KacstTitle</p>\n",
       "<p>KacstTitleL: <span style='font-family:KacstTitleL; font-size: 24px;'>KacstTitleL</p>\n",
       "<p>Kalapi: <span style='font-family:Kalapi; font-size: 24px;'>Kalapi</p>\n",
       "<p>Kalimati: <span style='font-family:Kalimati; font-size: 24px;'>Kalimati</p>\n",
       "<p>Karumbi: <span style='font-family:Karumbi; font-size: 24px;'>Karumbi</p>\n",
       "<p>Keraleeyam: <span style='font-family:Keraleeyam; font-size: 24px;'>Keraleeyam</p>\n",
       "<p>Khmer OS: <span style='font-family:Khmer OS; font-size: 24px;'>Khmer OS</p>\n",
       "<p>Khmer OS System: <span style='font-family:Khmer OS System; font-size: 24px;'>Khmer OS System</p>\n",
       "<p>Kinnari: <span style='font-family:Kinnari; font-size: 24px;'>Kinnari</p>\n",
       "<p>LKLUG: <span style='font-family:LKLUG; font-size: 24px;'>LKLUG</p>\n",
       "<p>Laksaman: <span style='font-family:Laksaman; font-size: 24px;'>Laksaman</p>\n",
       "<p>Liberation Mono: <span style='font-family:Liberation Mono; font-size: 24px;'>Liberation Mono</p>\n",
       "<p>Liberation Sans: <span style='font-family:Liberation Sans; font-size: 24px;'>Liberation Sans</p>\n",
       "<p>Liberation Sans Narrow: <span style='font-family:Liberation Sans Narrow; font-size: 24px;'>Liberation Sans Narrow</p>\n",
       "<p>Liberation Serif: <span style='font-family:Liberation Serif; font-size: 24px;'>Liberation Serif</p>\n",
       "<p>Likhan: <span style='font-family:Likhan; font-size: 24px;'>Likhan</p>\n",
       "<p>Lohit Assamese: <span style='font-family:Lohit Assamese; font-size: 24px;'>Lohit Assamese</p>\n",
       "<p>Lohit Bengali: <span style='font-family:Lohit Bengali; font-size: 24px;'>Lohit Bengali</p>\n",
       "<p>Lohit Devanagari: <span style='font-family:Lohit Devanagari; font-size: 24px;'>Lohit Devanagari</p>\n",
       "<p>Lohit Gujarati: <span style='font-family:Lohit Gujarati; font-size: 24px;'>Lohit Gujarati</p>\n",
       "<p>Lohit Gurmukhi: <span style='font-family:Lohit Gurmukhi; font-size: 24px;'>Lohit Gurmukhi</p>\n",
       "<p>Lohit Kannada: <span style='font-family:Lohit Kannada; font-size: 24px;'>Lohit Kannada</p>\n",
       "<p>Lohit Malayalam: <span style='font-family:Lohit Malayalam; font-size: 24px;'>Lohit Malayalam</p>\n",
       "<p>Lohit Odia: <span style='font-family:Lohit Odia; font-size: 24px;'>Lohit Odia</p>\n",
       "<p>Lohit Tamil: <span style='font-family:Lohit Tamil; font-size: 24px;'>Lohit Tamil</p>\n",
       "<p>Lohit Tamil Classical: <span style='font-family:Lohit Tamil Classical; font-size: 24px;'>Lohit Tamil Classical</p>\n",
       "<p>Lohit Telugu: <span style='font-family:Lohit Telugu; font-size: 24px;'>Lohit Telugu</p>\n",
       "<p>Loma: <span style='font-family:Loma; font-size: 24px;'>Loma</p>\n",
       "<p>Manjari: <span style='font-family:Manjari; font-size: 24px;'>Manjari</p>\n",
       "<p>MathJax_AMS: <span style='font-family:MathJax_AMS; font-size: 24px;'>MathJax_AMS</p>\n",
       "<p>MathJax_Caligraphic: <span style='font-family:MathJax_Caligraphic; font-size: 24px;'>MathJax_Caligraphic</p>\n",
       "<p>MathJax_Fraktur: <span style='font-family:MathJax_Fraktur; font-size: 24px;'>MathJax_Fraktur</p>\n",
       "<p>MathJax_Main: <span style='font-family:MathJax_Main; font-size: 24px;'>MathJax_Main</p>\n",
       "<p>MathJax_Math: <span style='font-family:MathJax_Math; font-size: 24px;'>MathJax_Math</p>\n",
       "<p>MathJax_SansSerif: <span style='font-family:MathJax_SansSerif; font-size: 24px;'>MathJax_SansSerif</p>\n",
       "<p>MathJax_Script: <span style='font-family:MathJax_Script; font-size: 24px;'>MathJax_Script</p>\n",
       "<p>MathJax_Size1: <span style='font-family:MathJax_Size1; font-size: 24px;'>MathJax_Size1</p>\n",
       "<p>MathJax_Size2: <span style='font-family:MathJax_Size2; font-size: 24px;'>MathJax_Size2</p>\n",
       "<p>MathJax_Size3: <span style='font-family:MathJax_Size3; font-size: 24px;'>MathJax_Size3</p>\n",
       "<p>MathJax_Size4: <span style='font-family:MathJax_Size4; font-size: 24px;'>MathJax_Size4</p>\n",
       "<p>MathJax_Typewriter: <span style='font-family:MathJax_Typewriter; font-size: 24px;'>MathJax_Typewriter</p>\n",
       "<p>MathJax_Vector: <span style='font-family:MathJax_Vector; font-size: 24px;'>MathJax_Vector</p>\n",
       "<p>MathJax_Vector-Bold: <span style='font-family:MathJax_Vector-Bold; font-size: 24px;'>MathJax_Vector-Bold</p>\n",
       "<p>MathJax_WinChrome: <span style='font-family:MathJax_WinChrome; font-size: 24px;'>MathJax_WinChrome</p>\n",
       "<p>MathJax_WinIE6: <span style='font-family:MathJax_WinIE6; font-size: 24px;'>MathJax_WinIE6</p>\n",
       "<p>Meera: <span style='font-family:Meera; font-size: 24px;'>Meera</p>\n",
       "<p>Mitra Mono: <span style='font-family:Mitra Mono; font-size: 24px;'>Mitra Mono</p>\n",
       "<p>Mukti Narrow: <span style='font-family:Mukti Narrow; font-size: 24px;'>Mukti Narrow</p>\n",
       "<p>Nakula: <span style='font-family:Nakula; font-size: 24px;'>Nakula</p>\n",
       "<p>Navilu: <span style='font-family:Navilu; font-size: 24px;'>Navilu</p>\n",
       "<p>Nimbus Mono PS: <span style='font-family:Nimbus Mono PS; font-size: 24px;'>Nimbus Mono PS</p>\n",
       "<p>Nimbus Roman: <span style='font-family:Nimbus Roman; font-size: 24px;'>Nimbus Roman</p>\n",
       "<p>Nimbus Sans: <span style='font-family:Nimbus Sans; font-size: 24px;'>Nimbus Sans</p>\n",
       "<p>Nimbus Sans Narrow: <span style='font-family:Nimbus Sans Narrow; font-size: 24px;'>Nimbus Sans Narrow</p>\n",
       "<p>Norasi: <span style='font-family:Norasi; font-size: 24px;'>Norasi</p>\n",
       "<p>Noto Mono: <span style='font-family:Noto Mono; font-size: 24px;'>Noto Mono</p>\n",
       "<p>Noto Sans CJK JP: <span style='font-family:Noto Sans CJK JP; font-size: 24px;'>Noto Sans CJK JP</p>\n",
       "<p>Noto Serif CJK JP: <span style='font-family:Noto Serif CJK JP; font-size: 24px;'>Noto Serif CJK JP</p>\n",
       "<p>OpenSymbol: <span style='font-family:OpenSymbol; font-size: 24px;'>OpenSymbol</p>\n",
       "<p>P052: <span style='font-family:P052; font-size: 24px;'>P052</p>\n",
       "<p>Padauk: <span style='font-family:Padauk; font-size: 24px;'>Padauk</p>\n",
       "<p>Padauk Book: <span style='font-family:Padauk Book; font-size: 24px;'>Padauk Book</p>\n",
       "<p>Pagul: <span style='font-family:Pagul; font-size: 24px;'>Pagul</p>\n",
       "<p>Phetsarath OT: <span style='font-family:Phetsarath OT; font-size: 24px;'>Phetsarath OT</p>\n",
       "<p>Pothana2000: <span style='font-family:Pothana2000; font-size: 24px;'>Pothana2000</p>\n",
       "<p>Purisa: <span style='font-family:Purisa; font-size: 24px;'>Purisa</p>\n",
       "<p>Rachana: <span style='font-family:Rachana; font-size: 24px;'>Rachana</p>\n",
       "<p>RaghuMalayalamSans: <span style='font-family:RaghuMalayalamSans; font-size: 24px;'>RaghuMalayalamSans</p>\n",
       "<p>Rasa: <span style='font-family:Rasa; font-size: 24px;'>Rasa</p>\n",
       "<p>Rekha: <span style='font-family:Rekha; font-size: 24px;'>Rekha</p>\n",
       "<p>STIXGeneral: <span style='font-family:STIXGeneral; font-size: 24px;'>STIXGeneral</p>\n",
       "<p>STIXNonUnicode: <span style='font-family:STIXNonUnicode; font-size: 24px;'>STIXNonUnicode</p>\n",
       "<p>STIXSizeFiveSym: <span style='font-family:STIXSizeFiveSym; font-size: 24px;'>STIXSizeFiveSym</p>\n",
       "<p>STIXSizeFourSym: <span style='font-family:STIXSizeFourSym; font-size: 24px;'>STIXSizeFourSym</p>\n",
       "<p>STIXSizeOneSym: <span style='font-family:STIXSizeOneSym; font-size: 24px;'>STIXSizeOneSym</p>\n",
       "<p>STIXSizeThreeSym: <span style='font-family:STIXSizeThreeSym; font-size: 24px;'>STIXSizeThreeSym</p>\n",
       "<p>STIXSizeTwoSym: <span style='font-family:STIXSizeTwoSym; font-size: 24px;'>STIXSizeTwoSym</p>\n",
       "<p>Saab: <span style='font-family:Saab; font-size: 24px;'>Saab</p>\n",
       "<p>Sahadeva: <span style='font-family:Sahadeva; font-size: 24px;'>Sahadeva</p>\n",
       "<p>Samanata: <span style='font-family:Samanata; font-size: 24px;'>Samanata</p>\n",
       "<p>Samyak Devanagari: <span style='font-family:Samyak Devanagari; font-size: 24px;'>Samyak Devanagari</p>\n",
       "<p>Samyak Gujarati: <span style='font-family:Samyak Gujarati; font-size: 24px;'>Samyak Gujarati</p>\n",
       "<p>Samyak Malayalam: <span style='font-family:Samyak Malayalam; font-size: 24px;'>Samyak Malayalam</p>\n",
       "<p>Samyak Tamil: <span style='font-family:Samyak Tamil; font-size: 24px;'>Samyak Tamil</p>\n",
       "<p>Sarai: <span style='font-family:Sarai; font-size: 24px;'>Sarai</p>\n",
       "<p>Sawasdee: <span style='font-family:Sawasdee; font-size: 24px;'>Sawasdee</p>\n",
       "<p>Standard Symbols PS: <span style='font-family:Standard Symbols PS; font-size: 24px;'>Standard Symbols PS</p>\n",
       "<p>Suruma: <span style='font-family:Suruma; font-size: 24px;'>Suruma</p>\n",
       "<p>Tibetan Machine Uni: <span style='font-family:Tibetan Machine Uni; font-size: 24px;'>Tibetan Machine Uni</p>\n",
       "<p>Tlwg Mono: <span style='font-family:Tlwg Mono; font-size: 24px;'>Tlwg Mono</p>\n",
       "<p>Tlwg Typewriter: <span style='font-family:Tlwg Typewriter; font-size: 24px;'>Tlwg Typewriter</p>\n",
       "<p>Tlwg Typist: <span style='font-family:Tlwg Typist; font-size: 24px;'>Tlwg Typist</p>\n",
       "<p>Tlwg Typo: <span style='font-family:Tlwg Typo; font-size: 24px;'>Tlwg Typo</p>\n",
       "<p>URW Bookman: <span style='font-family:URW Bookman; font-size: 24px;'>URW Bookman</p>\n",
       "<p>URW Gothic: <span style='font-family:URW Gothic; font-size: 24px;'>URW Gothic</p>\n",
       "<p>Ubuntu: <span style='font-family:Ubuntu; font-size: 24px;'>Ubuntu</p>\n",
       "<p>Ubuntu Condensed: <span style='font-family:Ubuntu Condensed; font-size: 24px;'>Ubuntu Condensed</p>\n",
       "<p>Ubuntu Mono: <span style='font-family:Ubuntu Mono; font-size: 24px;'>Ubuntu Mono</p>\n",
       "<p>Umpush: <span style='font-family:Umpush; font-size: 24px;'>Umpush</p>\n",
       "<p>Uroob: <span style='font-family:Uroob; font-size: 24px;'>Uroob</p>\n",
       "<p>Vemana2000: <span style='font-family:Vemana2000; font-size: 24px;'>Vemana2000</p>\n",
       "<p>Waree: <span style='font-family:Waree; font-size: 24px;'>Waree</p>\n",
       "<p>Yrsa: <span style='font-family:Yrsa; font-size: 24px;'>Yrsa</p>\n",
       "<p>Z003: <span style='font-family:Z003; font-size: 24px;'>Z003</p>\n",
       "<p>aakar: <span style='font-family:aakar; font-size: 24px;'>aakar</p>\n",
       "<p>cmb10: <span style='font-family:cmb10; font-size: 24px;'>cmb10</p>\n",
       "<p>cmex10: <span style='font-family:cmex10; font-size: 24px;'>cmex10</p>\n",
       "<p>cmmi10: <span style='font-family:cmmi10; font-size: 24px;'>cmmi10</p>\n",
       "<p>cmr10: <span style='font-family:cmr10; font-size: 24px;'>cmr10</p>\n",
       "<p>cmss10: <span style='font-family:cmss10; font-size: 24px;'>cmss10</p>\n",
       "<p>cmsy10: <span style='font-family:cmsy10; font-size: 24px;'>cmsy10</p>\n",
       "<p>cmtt10: <span style='font-family:cmtt10; font-size: 24px;'>cmtt10</p>\n",
       "<p>esint10: <span style='font-family:esint10; font-size: 24px;'>esint10</p>\n",
       "<p>eufm10: <span style='font-family:eufm10; font-size: 24px;'>eufm10</p>\n",
       "<p>mry_KacstQurn: <span style='font-family:mry_KacstQurn; font-size: 24px;'>mry_KacstQurn</p>\n",
       "<p>msam10: <span style='font-family:msam10; font-size: 24px;'>msam10</p>\n",
       "<p>msbm10: <span style='font-family:msbm10; font-size: 24px;'>msbm10</p>\n",
       "<p>ori1Uni: <span style='font-family:ori1Uni; font-size: 24px;'>ori1Uni</p>\n",
       "<p>padmaa: <span style='font-family:padmaa; font-size: 24px;'>padmaa</p>\n",
       "<p>padmaa-Bold.1.1: <span style='font-family:padmaa-Bold.1.1; font-size: 24px;'>padmaa-Bold.1.1</p>\n",
       "<p>rsfs10: <span style='font-family:rsfs10; font-size: 24px;'>rsfs10</p>\n",
       "<p>stmary10: <span style='font-family:stmary10; font-size: 24px;'>stmary10</p>\n",
       "<p>wasy10: <span style='font-family:wasy10; font-size: 24px;'>wasy10</p></div>"
      ],
      "text/plain": [
       "<IPython.core.display.HTML object>"
      ]
     },
     "execution_count": 10,
     "metadata": {},
     "output_type": "execute_result"
    }
   ],
   "source": [
    "import matplotlib.font_manager\n",
    "from IPython.core.display import HTML\n",
    "\n",
    "def make_html(fontname):\n",
    "    return \"<p>{font}: <span style='font-family:{font}; font-size: 24px;'>{font}</p>\".format(font=fontname)\n",
    "\n",
    "code = \"\\n\".join([make_html(font) for font in sorted(set([f.name for f in matplotlib.font_manager.fontManager.ttflist]))])\n",
    "\n",
    "HTML(\"<div style='column-count: 2;'>{}</div>\".format(code))"
   ]
  },
  {
   "cell_type": "markdown",
   "metadata": {},
   "source": [
    "---"
   ]
  },
  {
   "cell_type": "code",
   "execution_count": 11,
   "metadata": {},
   "outputs": [
    {
     "data": {
      "image/png": "[encoded data removed]",
      "text/plain": [
       "<Figure size 432x288 with 1 Axes>"
      ]
     },
     "metadata": {
      "needs_background": "light"
     },
     "output_type": "display_data"
    }
   ],
   "source": [
    "x = [i for i in range(1, 10)]\n",
    "y = [i**2 for i in range(1, 10)]\n",
    "\n",
    "plt.plot(x, y, label=\"x^2\")\n",
    "\n",
    "FONT_DICT_TITLE = {\n",
    "                    \"fontname\": \"Z003\",\n",
    "                    \"fontsize\": 20,  # Size in points\n",
    "                    \"fontweight\": 100,  # A value from 1-1000\n",
    "                  }\n",
    "\n",
    "FONT_DICT_X_AXIS = {\n",
    "                    \"fontname\": \"Khmer OS\",\n",
    "                    \"fontsize\": 20,  # Size in points\n",
    "                    \"fontweight\": 100,  # A value from 1-1000\n",
    "                   }\n",
    "FONT_DICT_Y_AXIS = {\n",
    "                    \"fontname\": \"URW Gothic\",\n",
    "                    \"fontsize\": 20,  # Size in points\n",
    "                    \"fontweight\": 100,  # A value from 1-1000\n",
    "                   }"
   ]
  },
  {
   "cell_type": "markdown",
   "metadata": {},
   "source": [
    "## Without `plt.ylim(0)`\n",
    "### Hint: Notice the 0 mark on the Y-Axis\n",
    "\n",
    "**Notes:** [Ranges for Floating Point Numbers](https://pynative.com/python-range-for-float-numbers/)"
   ]
  },
  {
   "cell_type": "code",
   "execution_count": 12,
   "metadata": {
    "scrolled": true
   },
   "outputs": [
    {
     "data": {
      "image/png": "[encoded data removed]",
      "text/plain": [
       "<Figure size 432x288 with 1 Axes>"
      ]
     },
     "metadata": {
      "needs_background": "light"
     },
     "output_type": "display_data"
    }
   ],
   "source": [
    "plt.title(\"The Graph\", fontdict=FONT_DICT_TITLE)\n",
    "plt.xlabel(\"X Axis\", fontdict=FONT_DICT_X_AXIS)\n",
    "plt.ylabel(\"Y Axis\", fontdict=FONT_DICT_Y_AXIS)\n",
    "\n",
    "# The ticks automatically resize the graph\n",
    "plt.xticks([i for i in np.arange(0, 10, 0.5)])  # The values need not be evenly spaced\n",
    "plt.yticks([i for i in np.arange(0, 100, 10)])  # The values need not be evenly spaced\n",
    "\n",
    "plt.show()  # This is actually the right way to show the graph"
   ]
  },
  {
   "cell_type": "markdown",
   "metadata": {},
   "source": [
    "## Without `plt.ylim(0)`\n",
    "### Hint: Notice the 0 mark on the Y-Axis"
   ]
  },
  {
   "cell_type": "code",
   "execution_count": 13,
   "metadata": {},
   "outputs": [
    {
     "data": {
      "image/png": "[encoded data removed]",
      "text/plain": [
       "<Figure size 432x288 with 1 Axes>"
      ]
     },
     "metadata": {
      "needs_background": "light"
     },
     "output_type": "display_data"
    }
   ],
   "source": [
    "plt.title(\"The Graph\", fontdict=FONT_DICT_TITLE)\n",
    "plt.xlabel(\"X Axis\", fontdict=FONT_DICT_X_AXIS)\n",
    "plt.ylabel(\"Y Axis\", fontdict=FONT_DICT_Y_AXIS)\n",
    "\n",
    "# The ticks automatically resize the graph\n",
    "plt.xticks([i for i in np.arange(0, 10, 0.5)])  # The values need not be evenly spaced\n",
    "plt.yticks([i for i in np.arange(0, 100, 10)])  # The values need not be evenly spaced\n",
    "\n",
    "plt.ylim(0)  # Makes sure that the 0 point on the Y-Axis is at the bottom left corner of the graph only\n",
    "\n",
    "plt.show()  # This is actually the right way to show the graph"
   ]
  },
  {
   "cell_type": "markdown",
   "metadata": {},
   "source": [
    "## The tick marks need not be evenly spaced on the graph\n",
    "Also the tick marks need not be passed in any particular order to the functions as well, it is just a convention to pass the values in ascending order"
   ]
  },
  {
   "cell_type": "code",
   "execution_count": 14,
   "metadata": {
    "scrolled": true
   },
   "outputs": [
    {
     "data": {
      "image/png": "[encoded data removed]",
      "text/plain": [
       "<Figure size 432x288 with 1 Axes>"
      ]
     },
     "metadata": {
      "needs_background": "light"
     },
     "output_type": "display_data"
    }
   ],
   "source": [
    "plt.title(\"The Graph\", fontdict=FONT_DICT_TITLE)\n",
    "plt.xlabel(\"X Axis\", fontdict=FONT_DICT_X_AXIS)\n",
    "plt.ylabel(\"Y Axis\", fontdict=FONT_DICT_Y_AXIS)\n",
    "\n",
    "# The ticks automatically resize the graph\n",
    "plt.xticks([i for i in np.arange(0, 10, 0.5)])  # The values need not be evenly spaced\n",
    "plt.yticks([i for i in np.arange(1, 100, 10)] + [5, 95, 100])  # The values need not be evenly spaced\n",
    "\n",
    "plt.ylim(0)  # Makes sure that the 0 point on the Y-Axis is at the bottom left corner of the graph only\n",
    "\n",
    "plt.show()  # This is actually the right way to show the graph"
   ]
  },
  {
   "cell_type": "markdown",
   "metadata": {},
   "source": [
    "## As the input need not be ordered, we can really go crazy here"
   ]
  },
  {
   "cell_type": "code",
   "execution_count": 15,
   "metadata": {},
   "outputs": [
    {
     "data": {
      "image/png": "[encoded data removed]",
      "text/plain": [
       "<Figure size 432x288 with 1 Axes>"
      ]
     },
     "metadata": {
      "needs_background": "light"
     },
     "output_type": "display_data"
    }
   ],
   "source": [
    "plt.title(\"The Graph\", fontdict=FONT_DICT_TITLE)\n",
    "plt.xlabel(\"X Axis\", fontdict=FONT_DICT_X_AXIS)\n",
    "plt.ylabel(\"Y Axis\", fontdict=FONT_DICT_Y_AXIS)\n",
    "\n",
    "# The ticks automatically resize the graph\n",
    "plt.xticks([i for i in np.arange(0, 10, 0.5)])  # The values need not be evenly spaced\n",
    "\n",
    "a = [i for i in np.arange(100, -1, -10)] + [5, 95, 100]\n",
    "random.shuffle(a)\n",
    "plt.yticks(a)  # The values need not be evenly spaced\n",
    "\n",
    "plt.ylim(0)  # Makes sure that the 0 point on the Y-Axis is at the bottom left corner of the graph only\n",
    "\n",
    "plt.show()  # This is actually the right way to show the graph"
   ]
  },
  {
   "cell_type": "code",
   "execution_count": 16,
   "metadata": {
    "scrolled": true
   },
   "outputs": [
    {
     "data": {
      "text/plain": [
       "[100, 90, 5, 60, 100, 10, 30, 50, 20, 0, 80, 40, 95, 70]"
      ]
     },
     "execution_count": 16,
     "metadata": {},
     "output_type": "execute_result"
    }
   ],
   "source": [
    "a"
   ]
  },
  {
   "cell_type": "markdown",
   "metadata": {},
   "source": [
    "---"
   ]
  },
  {
   "cell_type": "markdown",
   "metadata": {},
   "source": [
    "## Adding a Legend"
   ]
  },
  {
   "cell_type": "code",
   "execution_count": 17,
   "metadata": {},
   "outputs": [
    {
     "name": "stderr",
     "output_type": "stream",
     "text": [
      "No handles with labels found to put in legend.\n"
     ]
    },
    {
     "data": {
      "image/png": "[encoded data removed]",
      "text/plain": [
       "<Figure size 432x288 with 1 Axes>"
      ]
     },
     "metadata": {
      "needs_background": "light"
     },
     "output_type": "display_data"
    }
   ],
   "source": [
    "plt.title(\"The Graph\", fontdict=FONT_DICT_TITLE)\n",
    "plt.xlabel(\"X Axis\", fontdict=FONT_DICT_X_AXIS)\n",
    "plt.ylabel(\"Y Axis\", fontdict=FONT_DICT_Y_AXIS)\n",
    "\n",
    "# The ticks automatically resize the graph\n",
    "plt.xticks([i for i in np.arange(0, 10, 0.5)])  # The values need not be evenly spaced\n",
    "plt.yticks([i for i in np.arange(0, 100, 10)])  # The values need not be evenly spaced\n",
    "\n",
    "plt.ylim(0)  # Makes sure that the 0 point on the Y-Axis is at the bottom left corner of the graph only\n",
    "plt.legend()  # This needs a label kwarg to be defined during the plot stage\n",
    "\n",
    "plt.show()  # This is actually the right way to show the graph"
   ]
  },
  {
   "cell_type": "code",
   "execution_count": null,
   "metadata": {},
   "outputs": [],
   "source": []
  }
 ],
 "metadata": {
  "kernelspec": {
   "display_name": "env",
   "language": "python",
   "name": "env"
  },
  "language_info": {
   "codemirror_mode": {
    "name": "ipython",
    "version": 3
   },
   "file_extension": ".py",
   "mimetype": "text/x-python",
   "name": "python",
   "nbconvert_exporter": "python",
   "pygments_lexer": "ipython3",
   "version": "3.8.2"
  }
 },
 "nbformat": 4,
 "nbformat_minor": 4
}
